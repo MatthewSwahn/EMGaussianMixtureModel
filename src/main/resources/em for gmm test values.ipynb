{
 "cells": [
  {
   "cell_type": "code",
   "execution_count": 1,
   "metadata": {
    "collapsed": true
   },
   "outputs": [],
   "source": [
    "from scipy.stats import multivariate_normal\n",
    "import numpy as np"
   ]
  },
  {
   "cell_type": "code",
   "execution_count": 3,
   "metadata": {
    "collapsed": false
   },
   "outputs": [
    {
     "name": "stdout",
     "output_type": "stream",
     "text": [
      "0.0033814120216 0.000148875770138\n",
      "0.00135256480864 8.9325462083e-05\n"
     ]
    }
   ],
   "source": [
    "## set up multivariate norm used throughout tests\n",
    "# 40% from mean = [2, 5], cov = [[1, .5], [.5, 100]]\n",
    "# 60% from mean = [6, 9], cov = [[5, 3], [3, 40]]\n",
    "\n",
    "mvn1 = multivariate_normal(mean = [2, 5], cov = [[1, .5], [.5, 100]])\n",
    "mvn2 = multivariate_normal(mean = [6, 9], cov = [[5, 3], [3, 40]])\n",
    "x11, x12 = 2.449356520423142, 22.228603905059355\n",
    "pdfx1 = mvn1.pdf([x11, x12])\n",
    "pdfx2 = mvn2.pdf([x11, x12])\n",
    "pdfx1_weighted = pdfx1 * 0.4\n",
    "pdfx2_weighted = pdfx2 * 0.6\n",
    "print(pdfx1, pdfx2)\n",
    "print(pdfx1_weighted, pdfx2_weighted)\n",
    "\n",
    "## more data\n",
    "x_vals = [[2.449356520423142, 22.228603905059355],\n",
    "            [7.375567311048346, 7.658930529870852],\n",
    "            [0.6206099136380241, -0.5206737056553434],\n",
    "            [4.023896000998747, -1.1727896397005733],\n",
    "            [7.794096850083458, 7.068473377153386]]\n",
    "\n",
    "## weigth values (comes up in M step)\n",
    "wk_vals = [[0.98630233, 0.01369767],\n",
    "                [0.93771556, 0.06228444],\n",
    "                [0.62419835, 0.37580165],\n",
    "                [0.98378211, 0.01621789],\n",
    "                [0.9500608, 0.0499392]]"
   ]
  },
  {
   "cell_type": "code",
   "execution_count": 4,
   "metadata": {
    "collapsed": false
   },
   "outputs": [
    {
     "name": "stdout",
     "output_type": "stream",
     "text": [
      "0.9380497504583296 0.06195024954167031\n"
     ]
    }
   ],
   "source": [
    "## eStepDatumTest\n",
    "denom = pdfx1_weighted + pdfx2_weighted\n",
    "print(pdfx1_weighted/denom, pdfx2_weighted/denom)"
   ]
  },
  {
   "cell_type": "code",
   "execution_count": 23,
   "metadata": {
    "collapsed": false
   },
   "outputs": [
    {
     "data": {
      "text/plain": [
       "-6.541800338213515"
      ]
     },
     "execution_count": 23,
     "metadata": {},
     "output_type": "execute_result"
    }
   ],
   "source": [
    "## logLikelihoodGMMTest\n",
    "np.log(pdfx1_weighted + pdfx2_weighted)"
   ]
  },
  {
   "cell_type": "code",
   "execution_count": 6,
   "metadata": {
    "collapsed": false
   },
   "outputs": [
    {
     "data": {
      "text/plain": [
       "[0.19765004055219848,\n",
       " 0.36498221099062,\n",
       " 0.1968909878188082,\n",
       " 0.5009962966680894,\n",
       " 0.7966995493558133]"
      ]
     },
     "execution_count": 6,
     "metadata": {},
     "output_type": "execute_result"
    }
   ],
   "source": [
    "list(np.random.uniform(size=5))"
   ]
  },
  {
   "cell_type": "code",
   "execution_count": 6,
   "metadata": {
    "collapsed": false
   },
   "outputs": [
    {
     "name": "stdout",
     "output_type": "stream",
     "text": [
      "<class 'numpy.ndarray'> <class 'numpy.ndarray'>\n"
     ]
    }
   ],
   "source": [
    "wk_vals = list(map(np.array,wk_vals))\n",
    "wk_vals = np.array(wk_vals)\n",
    "print(type(wk_vals), type(wk_vals[0]))"
   ]
  },
  {
   "cell_type": "code",
   "execution_count": 7,
   "metadata": {
    "collapsed": false
   },
   "outputs": [
    {
     "data": {
      "text/plain": [
       "array([[ 0.98630233,  0.01369767],\n",
       "       [ 0.93771556,  0.06228444],\n",
       "       [ 0.62419835,  0.37580165],\n",
       "       [ 0.98378211,  0.01621789],\n",
       "       [ 0.9500608 ,  0.0499392 ]])"
      ]
     },
     "execution_count": 7,
     "metadata": {},
     "output_type": "execute_result"
    }
   ],
   "source": [
    "wk_vals"
   ]
  },
  {
   "cell_type": "code",
   "execution_count": 5,
   "metadata": {
    "collapsed": true
   },
   "outputs": [],
   "source": [
    "## functions for mean m step\n",
    "def generate_wk(n):\n",
    "    l1 = list(np.random.uniform(size = n))\n",
    "    l2 = [1 - x for x in l1]\n",
    "    return [np.array([x1,x2]) for x1,x2 in zip(l1,l2)]\n",
    "\n",
    "\n",
    "def mean_calc(x_vals, wklist, nklist, kposition=0):\n",
    "    #look up vector class for sum_val?\n",
    "    k = len(nklist)\n",
    "    n = len(x_vals)\n",
    "    sum_val = np.array([0] * k)\n",
    "    for i in range(n):\n",
    "        sum_val = np.add(sum_val, np.multiply(wklist[i][kposition], np.array(x_vals[i])))\n",
    "        \n",
    "    return sum_val/nklist[kposition]"
   ]
  },
  {
   "cell_type": "code",
   "execution_count": 77,
   "metadata": {
    "collapsed": false
   },
   "outputs": [
    {
     "name": "stdout",
     "output_type": "stream",
     "text": [
      "[ 15.05919768  24.53052035]\n",
      "*******\n",
      "[ 0.32795829  0.25550444]\n"
     ]
    }
   ],
   "source": [
    "wk_weights = wk_vals\n",
    "nk_weights = [1.4, 3.6]\n",
    "mean1 = mean_calc(x_vals, wk_weights, nk_weights)\n",
    "print(mean1)\n",
    "print(\"*******\")\n",
    "mean2 = mean_calc(x_vals, wk_weights, nk_weights,1)\n",
    "print(mean2)\n",
    "means = [mean1, mean2]"
   ]
  },
  {
   "cell_type": "code",
   "execution_count": 35,
   "metadata": {
    "collapsed": false
   },
   "outputs": [
    {
     "data": {
      "text/plain": [
       "[[2.449356520423142, 22.228603905059355],\n",
       " [7.375567311048346, 7.658930529870852],\n",
       " [0.6206099136380241, -0.5206737056553434],\n",
       " [4.023896000998747, -1.1727896397005733],\n",
       " [7.794096850083458, 7.068473377153386]]"
      ]
     },
     "execution_count": 35,
     "metadata": {},
     "output_type": "execute_result"
    }
   ],
   "source": [
    "x_vals"
   ]
  },
  {
   "cell_type": "code",
   "execution_count": 46,
   "metadata": {
    "collapsed": false
   },
   "outputs": [
    {
     "name": "stdout",
     "output_type": "stream",
     "text": [
      "[array([[  2.44935652,  22.22860391]]), array([[ 7.37556731,  7.65893053]]), array([[ 0.62060991, -0.52067371]]), array([[ 4.023896  , -1.17278964]]), array([[ 7.79409685,  7.06847338]])]\n"
     ]
    }
   ],
   "source": [
    "## covariance matrix M step end. Result should be collection of covariance matrices\n",
    "x_vals_matrix = [np.array([xi]) for xi in x_vals]\n",
    "print(x_vals_matrix)"
   ]
  },
  {
   "cell_type": "code",
   "execution_count": 56,
   "metadata": {
    "collapsed": false
   },
   "outputs": [
    {
     "name": "stdout",
     "output_type": "stream",
     "text": [
      "[[  2.44935652  22.22860391]] [ 15.05919768  24.53052035] [[-12.60984115  -2.30191645]] [[-12.60984115]\n",
      " [ -2.30191645]]\n"
     ]
    }
   ],
   "source": [
    "print(x_vals_matrix[0], mean1, x_vals_matrix[0] - mean1, (x_vals_matrix[0] - mean1).transpose())"
   ]
  },
  {
   "cell_type": "code",
   "execution_count": 97,
   "metadata": {
    "collapsed": false
   },
   "outputs": [],
   "source": [
    "def cov_calc(x_vals, wklist, meanlist, nklist, kposition=0):\n",
    "    k = len(nklist)\n",
    "    n = len(x_vals)\n",
    "    d = len(x_vals[0])\n",
    "    sumtotal = np.array([[0] * d] * d)\n",
    "    for i in range(n):\n",
    "        x_minus_mean = np.array([x_vals[i] - meanlist[kposition]])\n",
    "        sumval = wklist[i][kposition] * np.multiply(x_minus_mean, x_minus_mean.transpose())\n",
    "        sumtotal = np.add(sumtotal, sumval)\n",
    "    return (1/nklist[kposition]) * sumtotal"
   ]
  },
  {
   "cell_type": "code",
   "execution_count": 98,
   "metadata": {
    "collapsed": false
   },
   "outputs": [
    {
     "name": "stdout",
     "output_type": "stream",
     "text": [
      "[[  512.2681749    775.53671376]\n",
      " [  775.53671376  1603.51194885]]\n",
      "*****\n",
      "[[  6.19273023   6.25754029]\n",
      " [  6.25754029  12.60481687]]\n"
     ]
    }
   ],
   "source": [
    "cov1 = cov_calc(x_vals, wk_vals, means, nk_weights)\n",
    "print(cov1)\n",
    "print('*****')\n",
    "cov2 = cov_calc(x_vals, wk_vals, means, nk_weights, kposition=1)\n",
    "print(cov2)"
   ]
  },
  {
   "cell_type": "code",
   "execution_count": null,
   "metadata": {
    "collapsed": true
   },
   "outputs": [],
   "source": []
  }
 ],
 "metadata": {
  "kernelspec": {
   "display_name": "Python 3",
   "language": "python",
   "name": "python3"
  },
  "language_info": {
   "codemirror_mode": {
    "name": "ipython",
    "version": 3
   },
   "file_extension": ".py",
   "mimetype": "text/x-python",
   "name": "python",
   "nbconvert_exporter": "python",
   "pygments_lexer": "ipython3",
   "version": "3.6.0"
  }
 },
 "nbformat": 4,
 "nbformat_minor": 2
}
