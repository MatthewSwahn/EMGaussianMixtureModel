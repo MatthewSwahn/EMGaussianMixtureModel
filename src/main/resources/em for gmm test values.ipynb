{
 "cells": [
  {
   "cell_type": "code",
   "execution_count": 1,
   "metadata": {
    "collapsed": true
   },
   "outputs": [],
   "source": [
    "from scipy.stats import multivariate_normal\n",
    "import numpy as np"
   ]
  },
  {
   "cell_type": "code",
   "execution_count": 2,
   "metadata": {
    "collapsed": false
   },
   "outputs": [
    {
     "name": "stdout",
     "output_type": "stream",
     "text": [
      "0.0033814120216 0.000148875770138\n",
      "0.00135256480864 8.9325462083e-05\n"
     ]
    }
   ],
   "source": [
    "## set up multivariate norm used throughout tests\n",
    "# 40% from mean = [2, 5], cov = [[1, .5], [.5, 100]]\n",
    "# 60% from mean = [6, 9], cov = [[5, 3], [3, 40]]\n",
    "\n",
    "mvn1 = multivariate_normal(mean = [2, 5], cov = [[1, .5], [.5, 100]])\n",
    "mvn2 = multivariate_normal(mean = [6, 9], cov = [[5, 3], [3, 40]])\n",
    "x11, x12 = 2.449356520423142, 22.228603905059355\n",
    "pdfx1 = mvn1.pdf([x11, x12])\n",
    "pdfx2 = mvn2.pdf([x11, x12])\n",
    "pdfx1_weighted = pdfx1 * 0.4\n",
    "pdfx2_weighted = pdfx2 * 0.6\n",
    "print(pdfx1, pdfx2)\n",
    "print(pdfx1_weighted, pdfx2_weighted)\n",
    "\n",
    "## more data\n",
    "x_vals = [[2.449356520423142, 22.228603905059355],\n",
    "            [7.375567311048346, 7.658930529870852],\n",
    "            [0.6206099136380241, -0.5206737056553434],\n",
    "            [4.023896000998747, -1.1727896397005733],\n",
    "            [7.794096850083458, 7.068473377153386]]"
   ]
  },
  {
   "cell_type": "code",
   "execution_count": 17,
   "metadata": {
    "collapsed": false
   },
   "outputs": [
    {
     "data": {
      "text/plain": [
       "array([ 0.62060991, -0.52067371])"
      ]
     },
     "execution_count": 17,
     "metadata": {},
     "output_type": "execute_result"
    }
   ],
   "source": [
    "np.array(x_vals[2])"
   ]
  },
  {
   "cell_type": "code",
   "execution_count": 4,
   "metadata": {
    "collapsed": false
   },
   "outputs": [
    {
     "name": "stdout",
     "output_type": "stream",
     "text": [
      "0.9380497504583296 0.06195024954167031\n"
     ]
    }
   ],
   "source": [
    "## eStepDatumTest\n",
    "denom = pdfx1_weighted + pdfx2_weighted\n",
    "print(pdfx1_weighted/denom, pdfx2_weighted/denom)"
   ]
  },
  {
   "cell_type": "code",
   "execution_count": 23,
   "metadata": {
    "collapsed": false
   },
   "outputs": [
    {
     "data": {
      "text/plain": [
       "-6.541800338213515"
      ]
     },
     "execution_count": 23,
     "metadata": {},
     "output_type": "execute_result"
    }
   ],
   "source": [
    "## logLikelihoodGMMTest\n",
    "np.log(pdfx1_weighted + pdfx2_weighted)"
   ]
  },
  {
   "cell_type": "code",
   "execution_count": 6,
   "metadata": {
    "collapsed": false
   },
   "outputs": [
    {
     "data": {
      "text/plain": [
       "[0.19765004055219848,\n",
       " 0.36498221099062,\n",
       " 0.1968909878188082,\n",
       " 0.5009962966680894,\n",
       " 0.7966995493558133]"
      ]
     },
     "execution_count": 6,
     "metadata": {},
     "output_type": "execute_result"
    }
   ],
   "source": [
    "list(np.random.uniform(size=5))"
   ]
  },
  {
   "cell_type": "code",
   "execution_count": 3,
   "metadata": {
    "collapsed": false
   },
   "outputs": [
    {
     "name": "stdout",
     "output_type": "stream",
     "text": [
      "[ 2  4 10]\n"
     ]
    }
   ],
   "source": [
    "test_array = np.array([1,2,5])\n",
    "print(2 * test_array)"
   ]
  },
  {
   "cell_type": "code",
   "execution_count": 4,
   "metadata": {
    "collapsed": false,
    "scrolled": true
   },
   "outputs": [
    {
     "name": "stdout",
     "output_type": "stream",
     "text": [
      "[0, 0, 0]\n",
      "[0, 0, 9]\n"
     ]
    }
   ],
   "source": [
    "test_list = [0] * 3\n",
    "print(test_list)\n",
    "test_list[2] = 9\n",
    "print(test_list)"
   ]
  },
  {
   "cell_type": "code",
   "execution_count": 5,
   "metadata": {
    "collapsed": false
   },
   "outputs": [
    {
     "data": {
      "text/plain": [
       "array([2, 4])"
      ]
     },
     "execution_count": 5,
     "metadata": {},
     "output_type": "execute_result"
    }
   ],
   "source": [
    "a = np.array([1,2])\n",
    "b = np.array([1,2])\n",
    "a + b"
   ]
  },
  {
   "cell_type": "code",
   "execution_count": 6,
   "metadata": {
    "collapsed": false
   },
   "outputs": [
    {
     "name": "stdout",
     "output_type": "stream",
     "text": [
      "<class 'numpy.ndarray'> <class 'numpy.ndarray'>\n"
     ]
    }
   ],
   "source": [
    "wk_vals = [[0.98630233, 0.01369767],\n",
    "                [0.93771556, 0.06228444],\n",
    "                [0.62419835, 0.37580165],\n",
    "                [0.98378211, 0.01621789],\n",
    "                [0.9500608, 0.0499392]]\n",
    "wk_vals = list(map(np.array,wk_vals))\n",
    "wk_vals = np.array(wk_vals)\n",
    "print(type(wk_vals), type(wk_vals[0]))"
   ]
  },
  {
   "cell_type": "code",
   "execution_count": 7,
   "metadata": {
    "collapsed": false
   },
   "outputs": [
    {
     "data": {
      "text/plain": [
       "array([[ 0.98630233,  0.01369767],\n",
       "       [ 0.93771556,  0.06228444],\n",
       "       [ 0.62419835,  0.37580165],\n",
       "       [ 0.98378211,  0.01621789],\n",
       "       [ 0.9500608 ,  0.0499392 ]])"
      ]
     },
     "execution_count": 7,
     "metadata": {},
     "output_type": "execute_result"
    }
   ],
   "source": [
    "wk_vals"
   ]
  },
  {
   "cell_type": "code",
   "execution_count": 22,
   "metadata": {
    "collapsed": true
   },
   "outputs": [],
   "source": [
    "def generate_wk(n):\n",
    "    l1 = list(np.random.uniform(size = n))\n",
    "    l2 = [1 - x for x in l1]\n",
    "    return [np.array([x1,x2]) for x1,x2 in zip(l1,l2)]\n",
    "\n",
    "\n",
    "def mean_calc(x_vals, wklist, nklist, kposition=0):\n",
    "    #look up vector class for sum_val?\n",
    "    k = len(nklist)\n",
    "    n = len(x_vals)\n",
    "    sum_val = np.array([0] * k)\n",
    "    for i in range(n):\n",
    "        sum_val = np.add(sum_val, np.multiply(wklist[i][kposition], np.array(x_vals[i])))\n",
    "        \n",
    "    return sum_val/nklist[kposition]"
   ]
  },
  {
   "cell_type": "code",
   "execution_count": 28,
   "metadata": {
    "collapsed": true
   },
   "outputs": [],
   "source": [
    "# wk_weights_ref = generate_wk(5)\n",
    "# wk_weights = wk_weights_ref"
   ]
  },
  {
   "cell_type": "code",
   "execution_count": 23,
   "metadata": {
    "collapsed": false
   },
   "outputs": [
    {
     "name": "stdout",
     "output_type": "stream",
     "text": [
      "[ 15.05919768  24.53052035]\n",
      "between\n",
      "[ 0.32795829  0.25550444]\n"
     ]
    }
   ],
   "source": [
    "## weights m step\n",
    "wk_weights = wk_vals\n",
    "nk_weights = [1.4, 3.6]\n",
    "print(mean_calc(x_vals, wk_weights, nk_weights))\n",
    "print(\"*******\")\n",
    "print(mean_calc(x_vals, wk_weights, nk_weights,1))"
   ]
  },
  {
   "cell_type": "code",
   "execution_count": null,
   "metadata": {
    "collapsed": true
   },
   "outputs": [],
   "source": []
  }
 ],
 "metadata": {
  "kernelspec": {
   "display_name": "Python 3",
   "language": "python",
   "name": "python3"
  },
  "language_info": {
   "codemirror_mode": {
    "name": "ipython",
    "version": 3
   },
   "file_extension": ".py",
   "mimetype": "text/x-python",
   "name": "python",
   "nbconvert_exporter": "python",
   "pygments_lexer": "ipython3",
   "version": "3.6.0"
  }
 },
 "nbformat": 4,
 "nbformat_minor": 2
}
