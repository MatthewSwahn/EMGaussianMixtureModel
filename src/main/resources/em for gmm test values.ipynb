{
 "cells": [
  {
   "cell_type": "code",
   "execution_count": 5,
   "metadata": {},
   "outputs": [],
   "source": [
    "from scipy.stats import multivariate_normal\n",
    "import numpy as np"
   ]
  },
  {
   "cell_type": "code",
   "execution_count": 2,
   "metadata": {},
   "outputs": [
    {
     "name": "stdout",
     "output_type": "stream",
     "text": [
      "0.0033814120216009553 0.00014887577013836904\n",
      "0.0013525648086403822 8.932546208302143e-05\n"
     ]
    }
   ],
   "source": [
    "## set up multivariate norm used throughout tests\n",
    "# 40% from mean = [2, 5], cov = [[1, .5], [.5, 100]]\n",
    "# 60% from mean = [6, 9], cov = [[5, 3], [3, 40]]\n",
    "\n",
    "mvn1 = multivariate_normal(mean = [2, 5], cov = [[1, .5], [.5, 100]])\n",
    "mvn2 = multivariate_normal(mean = [6, 9], cov = [[5, 3], [3, 40]])\n",
    "x11, x12 = 2.449356520423142, 22.228603905059355\n",
    "pdfx1 = mvn1.pdf([x11, x12])\n",
    "pdfx2 = mvn2.pdf([x11, x12])\n",
    "pdfx1_weighted = pdfx1 * 0.4\n",
    "pdfx2_weighted = pdfx2 * 0.6\n",
    "print(pdfx1, pdfx2)\n",
    "print(pdfx1_weighted, pdfx2_weighted)\n",
    "\n",
    "## more data\n",
    "x_vals = [[2.449356520423142, 22.228603905059355],\n",
    "            [7.375567311048346, 7.658930529870852],\n",
    "            [0.6206099136380241, -0.5206737056553434],\n",
    "            [4.023896000998747, -1.1727896397005733],\n",
    "            [7.794096850083458, 7.068473377153386]]"
   ]
  },
  {
   "cell_type": "code",
   "execution_count": 4,
   "metadata": {},
   "outputs": [
    {
     "name": "stdout",
     "output_type": "stream",
     "text": [
      "0.9380497504583296 0.06195024954167031\n"
     ]
    }
   ],
   "source": [
    "## eStepDatumTest\n",
    "denom = pdfx1_weighted + pdfx2_weighted\n",
    "print(pdfx1_weighted/denom, pdfx2_weighted/denom)"
   ]
  },
  {
   "cell_type": "code",
   "execution_count": 23,
   "metadata": {},
   "outputs": [
    {
     "data": {
      "text/plain": [
       "-6.541800338213515"
      ]
     },
     "execution_count": 23,
     "metadata": {},
     "output_type": "execute_result"
    }
   ],
   "source": [
    "## logLikelihoodGMMTest\n",
    "np.log(pdfx1_weighted + pdfx2_weighted)"
   ]
  },
  {
   "cell_type": "code",
   "execution_count": 6,
   "metadata": {},
   "outputs": [
    {
     "data": {
      "text/plain": [
       "[0.19765004055219848,\n",
       " 0.36498221099062,\n",
       " 0.1968909878188082,\n",
       " 0.5009962966680894,\n",
       " 0.7966995493558133]"
      ]
     },
     "execution_count": 6,
     "metadata": {},
     "output_type": "execute_result"
    }
   ],
   "source": [
    "list(np.random.uniform(size=5))"
   ]
  },
  {
   "cell_type": "code",
   "execution_count": 7,
   "metadata": {},
   "outputs": [],
   "source": [
    "def generate_wk(n):\n",
    "    l1 = list(np.random.uniform(size = n))\n",
    "    l2 = [1 - x for x in l1]\n",
    "    return [[x1,x2] for x1,x2 in zip(l1,l2)]"
   ]
  },
  {
   "cell_type": "code",
   "execution_count": 21,
   "metadata": {},
   "outputs": [
    {
     "data": {
      "text/plain": [
       "[5.0, 7.5, 10.0]"
      ]
     },
     "execution_count": 21,
     "metadata": {},
     "output_type": "execute_result"
    }
   ],
   "source": [
    "def scalar_mult_list(myscalar,mylist):\n",
    "    return [myscalar * l for l in mylist]\n",
    "\n",
    "print(scalar_mult_list(2.5,[2,3,4]))"
   ]
  },
  {
   "cell_type": "code",
   "execution_count": 19,
   "metadata": {},
   "outputs": [],
   "source": [
    "def mean_calc(x_vals, wklist, nklist, kposition=0):\n",
    "    #look up vector class for sum_val?\n",
    "    sum_val = np.array()\n",
    "    for i in range(len(nklist)):\n",
    "        sum_val += wklist[i][kposition] * xvals[i] \n",
    "    \n",
    "    return sum_val/nklist[kposition]"
   ]
  },
  {
   "cell_type": "code",
   "execution_count": 10,
   "metadata": {},
   "outputs": [
    {
     "name": "stdout",
     "output_type": "stream",
     "text": [
      "[[0.4625609488364685, 0.5374390511635315], [0.1834006650675486, 0.8165993349324514], [0.24160053253017422, 0.7583994674698258], [0.7257471641930848, 0.2742528358069152], [0.29931376438548485, 0.7006862356145152]]\n"
     ]
    }
   ],
   "source": [
    "wk_weights_ref = generate_wk(5)\n",
    "wk_weights = wk_weights_ref\n",
    "print(wk_weights)"
   ]
  },
  {
   "cell_type": "code",
   "execution_count": 18,
   "metadata": {},
   "outputs": [
    {
     "name": "stdout",
     "output_type": "stream",
     "text": [
      "<class 'numpy.float64'>\n",
      "<class 'list'>\n"
     ]
    }
   ],
   "source": [
    "print(type(wk_weights[0][0]))\n",
    "print(type(x_vals[0]))"
   ]
  },
  {
   "cell_type": "code",
   "execution_count": 13,
   "metadata": {},
   "outputs": [
    {
     "ename": "TypeError",
     "evalue": "can't multiply sequence by non-int of type 'numpy.float64'",
     "output_type": "error",
     "traceback": [
      "\u001b[0;31m---------------------------------------------------------------------------\u001b[0m",
      "\u001b[0;31mTypeError\u001b[0m                                 Traceback (most recent call last)",
      "\u001b[0;32m<ipython-input-13-f551b9bb2a7b>\u001b[0m in \u001b[0;36m<module>\u001b[0;34m\u001b[0m\n\u001b[1;32m      1\u001b[0m \u001b[0;34m\u001b[0m\u001b[0m\n\u001b[1;32m      2\u001b[0m \u001b[0mnk_weights\u001b[0m \u001b[0;34m=\u001b[0m \u001b[0;34m[\u001b[0m\u001b[0;36m1.4\u001b[0m\u001b[0;34m,\u001b[0m \u001b[0;36m3.6\u001b[0m\u001b[0;34m]\u001b[0m\u001b[0;34m\u001b[0m\u001b[0;34m\u001b[0m\u001b[0m\n\u001b[0;32m----> 3\u001b[0;31m \u001b[0mmean_calc\u001b[0m\u001b[0;34m(\u001b[0m\u001b[0mx_vals\u001b[0m\u001b[0;34m,\u001b[0m\u001b[0mwk_weights\u001b[0m\u001b[0;34m,\u001b[0m\u001b[0mnk_weights\u001b[0m\u001b[0;34m)\u001b[0m\u001b[0;34m\u001b[0m\u001b[0;34m\u001b[0m\u001b[0m\n\u001b[0m",
      "\u001b[0;32m<ipython-input-6-6b64c96ea6bf>\u001b[0m in \u001b[0;36mmean_calc\u001b[0;34m(xvals, wklist, nklist, kposition)\u001b[0m\n\u001b[1;32m      2\u001b[0m     \u001b[0msum_val\u001b[0m \u001b[0;34m=\u001b[0m \u001b[0;36m0\u001b[0m\u001b[0;34m\u001b[0m\u001b[0;34m\u001b[0m\u001b[0m\n\u001b[1;32m      3\u001b[0m     \u001b[0;32mfor\u001b[0m \u001b[0mi\u001b[0m \u001b[0;32min\u001b[0m \u001b[0mrange\u001b[0m\u001b[0;34m(\u001b[0m\u001b[0mlen\u001b[0m\u001b[0;34m(\u001b[0m\u001b[0mnklist\u001b[0m\u001b[0;34m)\u001b[0m\u001b[0;34m)\u001b[0m\u001b[0;34m:\u001b[0m\u001b[0;34m\u001b[0m\u001b[0;34m\u001b[0m\u001b[0m\n\u001b[0;32m----> 4\u001b[0;31m         \u001b[0msum_val\u001b[0m \u001b[0;34m+=\u001b[0m \u001b[0mwklist\u001b[0m\u001b[0;34m[\u001b[0m\u001b[0mi\u001b[0m\u001b[0;34m]\u001b[0m\u001b[0;34m[\u001b[0m\u001b[0mkposition\u001b[0m\u001b[0;34m]\u001b[0m \u001b[0;34m*\u001b[0m \u001b[0mxvals\u001b[0m\u001b[0;34m[\u001b[0m\u001b[0mi\u001b[0m\u001b[0;34m]\u001b[0m\u001b[0;34m\u001b[0m\u001b[0;34m\u001b[0m\u001b[0m\n\u001b[0m\u001b[1;32m      5\u001b[0m \u001b[0;34m\u001b[0m\u001b[0m\n\u001b[1;32m      6\u001b[0m     \u001b[0;32mreturn\u001b[0m \u001b[0msum_val\u001b[0m\u001b[0;34m/\u001b[0m\u001b[0mnklist\u001b[0m\u001b[0;34m[\u001b[0m\u001b[0mkposition\u001b[0m\u001b[0;34m]\u001b[0m\u001b[0;34m\u001b[0m\u001b[0;34m\u001b[0m\u001b[0m\n",
      "\u001b[0;31mTypeError\u001b[0m: can't multiply sequence by non-int of type 'numpy.float64'"
     ]
    }
   ],
   "source": [
    "\n",
    "nk_weights = [1.4, 3.6]\n",
    "mean_calc(x_vals,wk_weights,nk_weights)"
   ]
  },
  {
   "cell_type": "code",
   "execution_count": null,
   "metadata": {},
   "outputs": [],
   "source": [
    "## weights m step\n",
    "nk_weights = [1.4, 3.6]\n",
    "wk_weights = generate_wk(5)\n"
   ]
  }
 ],
 "metadata": {
  "kernelspec": {
   "display_name": "Python 3",
   "language": "python",
   "name": "python3"
  },
  "language_info": {
   "codemirror_mode": {
    "name": "ipython",
    "version": 3
   },
   "file_extension": ".py",
   "mimetype": "text/x-python",
   "name": "python",
   "nbconvert_exporter": "python",
   "pygments_lexer": "ipython3",
   "version": "3.6.8"
  }
 },
 "nbformat": 4,
 "nbformat_minor": 2
}
